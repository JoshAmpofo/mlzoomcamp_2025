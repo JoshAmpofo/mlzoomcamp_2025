{
 "cells": [
  {
   "cell_type": "code",
   "execution_count": 1,
   "id": "57f61bcb",
   "metadata": {},
   "outputs": [
    {
     "data": {
      "text/plain": [
       "'\\nFor dot product, each element of one vector is multiplied by the corresponding element of the other vector\\nthe results are then summed to produce a single scalar value.\\n'"
      ]
     },
     "execution_count": 1,
     "metadata": {},
     "output_type": "execute_result"
    }
   ],
   "source": [
    "# Vector Operations\n",
    "import numpy as np\n",
    "\n",
    "def add_vectors(v1, v2):\n",
    "    \"\"\"add two vectors\"\"\"\n",
    "    return np.add(v1, v2)\n",
    "\n",
    "def multiply_vector_scalar(v, s):\n",
    "    \"\"\"multiply vector by scalar\"\"\"\n",
    "    return np.multiply(v, s)\n",
    "\n",
    "def dot_product(v1, v2):\n",
    "    \"\"\"compute dot product of two vectors\"\"\"\n",
    "    assert v1.shape[0] == v2.shape[0], \"Vectors must be of same length\"\n",
    "    \n",
    "    return np.dot(v1, v2) # vector-vector multiplication\n",
    "\"\"\"\n",
    "For dot product, each element of one vector is multiplied by the corresponding element of the other vector\n",
    "the results are then summed to produce a single scalar value.\n",
    "\"\"\""
   ]
  },
  {
   "cell_type": "code",
   "execution_count": 2,
   "id": "c58a3d9f",
   "metadata": {},
   "outputs": [
    {
     "name": "stdout",
     "output_type": "stream",
     "text": [
      "Dot Product: 32\n"
     ]
    }
   ],
   "source": [
    "\"\"\"\n",
    "To convert a column vector to a row vector, you have to use the transpose function\n",
    "v = np.array([[1], [2], [3]])  # Column vector\n",
    "v_row = v.T  # Transpose to get row vector\"\"\"\n",
    "v1 = np.array([1, 2, 3])\n",
    "v2 = np.array([4, 5, 6])\n",
    "dot_product_result = dot_product(v1,v2)\n",
    "print(\"Dot Product:\", dot_product_result)"
   ]
  },
  {
   "cell_type": "code",
   "execution_count": 3,
   "id": "711e6625",
   "metadata": {},
   "outputs": [
    {
     "name": "stdout",
     "output_type": "stream",
     "text": [
      "[[2 4 5 6]\n",
      " [1 2 1 2]\n",
      " [3 1 2 1]]\n",
      "[1.  0.5 2.  1. ]\n"
     ]
    }
   ],
   "source": [
    "# Matrix vector multiplication\n",
    "'''\n",
    "You multiply each row of the matrix by the vector\n",
    "Both should have equal n number of elements\n",
    "'''\n",
    "mat_u = np.array([\n",
    "    [2, 4, 5, 6],\n",
    "    [1, 2, 1, 2],\n",
    "    [3, 1, 2, 1]\n",
    "])\n",
    "\n",
    "vect_v = np.array([1, 0.5, 2, 1])\n",
    "print(f'{mat_u}\\n{vect_v}')"
   ]
  },
  {
   "cell_type": "code",
   "execution_count": 4,
   "id": "0ef517a9",
   "metadata": {},
   "outputs": [],
   "source": [
    "def matrix_vector_multiplication(mat, vec):\n",
    "    assert mat.shape[1] == vec.shape[0], \"matrix columns must equal vector length\"\n",
    "    \n",
    "    num_rows = mat.shape[0]\n",
    "    \n",
    "    result = np.zeros(num_rows)\n",
    "    \n",
    "    for i in range(num_rows):\n",
    "        result[i] = dot_product(mat[i], vec)\n",
    "        \n",
    "    return result"
   ]
  },
  {
   "cell_type": "code",
   "execution_count": 5,
   "id": "a8496711",
   "metadata": {},
   "outputs": [
    {
     "name": "stdout",
     "output_type": "stream",
     "text": [
      "Matrix-Vector Multiplication Result: [20.   6.   8.5]\n"
     ]
    }
   ],
   "source": [
    "vector_result = matrix_vector_multiplication(mat_u, vect_v)\n",
    "print(\"Matrix-Vector Multiplication Result:\", vector_result)\n"
   ]
  },
  {
   "cell_type": "code",
   "execution_count": 6,
   "id": "a501b048",
   "metadata": {},
   "outputs": [
    {
     "data": {
      "text/plain": [
       "'\\nnumpy formula will be result = np.dot(mat, vec)\\n'"
      ]
     },
     "execution_count": 6,
     "metadata": {},
     "output_type": "execute_result"
    }
   ],
   "source": [
    "'''\n",
    "numpy formula will be result = np.dot(mat, vec)\n",
    "'''"
   ]
  },
  {
   "cell_type": "code",
   "execution_count": 7,
   "id": "27fdf4cd",
   "metadata": {},
   "outputs": [],
   "source": [
    "# Matrix-matrix operations\n",
    "\"\"\"\n",
    "To multiply two matrices, the number of columns in the first matrix must equal the number of rows in the second matrix.\n",
    "\"\"\"\n",
    "def matrix_matrix_multiplication(mat_a, mat_b):\n",
    "    assert mat_a.shape[1] == mat_b.shape[0], \"First matrix columns must equal second matrix rows\"\n",
    "    \n",
    "    num_rows_a = mat_a.shape[0]\n",
    "    num_cols_b = mat_b.shape[1]\n",
    "    \n",
    "    result = np.zeros((num_rows_a, num_cols_b))\n",
    "    \n",
    "    for i in range(num_rows_a):\n",
    "        for j in range(num_cols_b):\n",
    "            result[i, j] = dot_product(mat_a[i], mat_b[:, j])\n",
    "    \n",
    "    return result"
   ]
  },
  {
   "cell_type": "code",
   "execution_count": 10,
   "id": "e5c13698",
   "metadata": {},
   "outputs": [],
   "source": [
    "mat_v = np.array([\n",
    "    [1, 2, 3, 4],\n",
    "    [5, 6, 7, 8],\n",
    "    [3, 0, 5, 9],\n",
    "    [1, 0, 2, 1]\n",
    "])"
   ]
  },
  {
   "cell_type": "code",
   "execution_count": 11,
   "id": "0d4575f3",
   "metadata": {},
   "outputs": [
    {
     "data": {
      "text/plain": [
       "array([[43., 28., 71., 91.],\n",
       "       [16., 14., 26., 31.],\n",
       "       [15., 12., 28., 39.]])"
      ]
     },
     "execution_count": 11,
     "metadata": {},
     "output_type": "execute_result"
    }
   ],
   "source": [
    "matrix_matrix_multiplication(mat_u, mat_v)"
   ]
  },
  {
   "cell_type": "code",
   "execution_count": 12,
   "id": "abc93bee",
   "metadata": {},
   "outputs": [
    {
     "data": {
      "text/plain": [
       "array([[43, 28, 71, 91],\n",
       "       [16, 14, 26, 31],\n",
       "       [15, 12, 28, 39]])"
      ]
     },
     "execution_count": 12,
     "metadata": {},
     "output_type": "execute_result"
    }
   ],
   "source": [
    "np.dot(mat_u, mat_v)"
   ]
  },
  {
   "cell_type": "code",
   "execution_count": 14,
   "id": "d856f512",
   "metadata": {},
   "outputs": [],
   "source": [
    "# Identity Matrix\n",
    "\"\"\"\n",
    "An identity matrix is a square matrix in which all the elements of the principal diagonal are ones, and all other elements are zeros.\n",
    "When you multiply any matrix by an identity matrix of compatible dimensions, the original matrix remains unchanged.\n",
    "\"\"\"\n",
    "I = np.eye(3)"
   ]
  },
  {
   "cell_type": "code",
   "execution_count": 16,
   "id": "e9ff1d59",
   "metadata": {},
   "outputs": [
    {
     "data": {
      "text/plain": [
       "array([1., 2., 3.])"
      ]
     },
     "execution_count": 16,
     "metadata": {},
     "output_type": "execute_result"
    }
   ],
   "source": [
    "v1.dot(I)"
   ]
  },
  {
   "cell_type": "code",
   "execution_count": 22,
   "id": "649bd5ab",
   "metadata": {},
   "outputs": [
    {
     "data": {
      "text/plain": [
       "array([[2, 4, 5, 6],\n",
       "       [1, 2, 1, 2],\n",
       "       [3, 1, 2, 1]])"
      ]
     },
     "execution_count": 22,
     "metadata": {},
     "output_type": "execute_result"
    }
   ],
   "source": [
    "# Matrix inverse\n",
    "\"\"\"\n",
    "An inverse of a matrix is a matrix that, when multiplied with the original matrix, results in an identity matrix.\n",
    "The inverse of a matrix A is denoted as A^(-1), and it exists only for square matrices that are non-singular (i.e., they have a non-zero determinant).\n",
    "\"\"\"\n",
    "U = mat_u[[0, 1, 2]]\n",
    "U"
   ]
  },
  {
   "cell_type": "code",
   "execution_count": 23,
   "id": "0270b0b4",
   "metadata": {},
   "outputs": [
    {
     "name": "stdout",
     "output_type": "stream",
     "text": [
      "Shape of U: (3, 4)\n",
      "U is a 3x4 matrix, but inverse only works for square matrices!\n",
      "\n",
      "Let's create a square matrix for the inverse example:\n",
      "Shape of U_square: (3, 3)\n",
      "U_square:\n",
      " [[2 4 5]\n",
      " [1 2 1]\n",
      " [3 1 2]]\n"
     ]
    }
   ],
   "source": [
    "# Check the shape of U\n",
    "print(\"Shape of U:\", U.shape)\n",
    "print(\"U is a 3x4 matrix, but inverse only works for square matrices!\")\n",
    "print(\"\\nLet's create a square matrix for the inverse example:\")\n",
    "\n",
    "# Create a 3x3 square matrix from the first 3 columns of U\n",
    "U_square = U[:, :3]  # Take first 3 columns\n",
    "print(\"Shape of U_square:\", U_square.shape)\n",
    "print(\"U_square:\\n\", U_square)"
   ]
  },
  {
   "cell_type": "code",
   "execution_count": 24,
   "id": "4b2e34f2",
   "metadata": {},
   "outputs": [
    {
     "name": "stdout",
     "output_type": "stream",
     "text": [
      "Inverse of U_square:\n",
      "[[-0.2         0.2         0.4       ]\n",
      " [-0.06666667  0.73333333 -0.2       ]\n",
      " [ 0.33333333 -0.66666667 -0.        ]]\n"
     ]
    }
   ],
   "source": [
    "# Compute the inverse of the square matrix\n",
    "Uinv = np.linalg.inv(U_square)\n",
    "print(\"Inverse of U_square:\")\n",
    "print(Uinv)"
   ]
  },
  {
   "cell_type": "code",
   "execution_count": 25,
   "id": "3d01f75f",
   "metadata": {},
   "outputs": [
    {
     "name": "stdout",
     "output_type": "stream",
     "text": [
      "U_square × U_inverse (should be identity matrix):\n",
      "[[ 1.00000000e+00  3.33066907e-16  0.00000000e+00]\n",
      " [-5.55111512e-17  1.00000000e+00  0.00000000e+00]\n",
      " [ 0.00000000e+00  0.00000000e+00  1.00000000e+00]]\n",
      "\n",
      "Rounded to remove floating point errors:\n",
      "[[ 1.  0.  0.]\n",
      " [-0.  1.  0.]\n",
      " [ 0.  0.  1.]]\n"
     ]
    }
   ],
   "source": [
    "# Verify the inverse by multiplying U_square with its inverse\n",
    "# This should give us the identity matrix\n",
    "identity_check = np.dot(U_square, Uinv)\n",
    "print(\"U_square × U_inverse (should be identity matrix):\")\n",
    "print(identity_check)\n",
    "print(\"\\nRounded to remove floating point errors:\")\n",
    "print(np.round(identity_check, 10))"
   ]
  }
 ],
 "metadata": {
  "kernelspec": {
   "display_name": "ml-zoomcamp",
   "language": "python",
   "name": "python3"
  },
  "language_info": {
   "codemirror_mode": {
    "name": "ipython",
    "version": 3
   },
   "file_extension": ".py",
   "mimetype": "text/x-python",
   "name": "python",
   "nbconvert_exporter": "python",
   "pygments_lexer": "ipython3",
   "version": "3.12.11"
  }
 },
 "nbformat": 4,
 "nbformat_minor": 5
}
